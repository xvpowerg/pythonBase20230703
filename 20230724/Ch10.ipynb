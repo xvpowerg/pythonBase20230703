{
 "cells": [
  {
   "cell_type": "code",
   "execution_count": 20,
   "id": "b7a7edf1",
   "metadata": {},
   "outputs": [],
   "source": [
    "import requests\n",
    "from bs4 import BeautifulSoup"
   ]
  },
  {
   "cell_type": "markdown",
   "id": "222863e6",
   "metadata": {},
   "source": [
    "## BeautifulSoup Base\n",
    "find() 只找第一個符合條件的\n",
    "\n",
    "https://www.crummy.com/software/BeautifulSoup/bs4/doc.zh/#find-all\n",
    "\n",
    "find_all() 找所有符合條件的\n",
    "\n",
    "select_one() 只找一個符合條件的可直接使用css語法\n",
    "\n",
    "select() 找所有符合條件的可使用css語法"
   ]
  },
  {
   "cell_type": "code",
   "execution_count": 21,
   "id": "7bc1f308",
   "metadata": {},
   "outputs": [
    {
     "name": "stdout",
     "output_type": "stream",
     "text": [
      "<a class=\"c1\" id=\"a1\">V1</a>\n",
      "<a class=\"c1\" id=\"a2\">V2</a>\n",
      "[<a class=\"c1\" id=\"a1\">V1</a>, <a class=\"c1\" id=\"a2\">V2</a>]\n",
      "[<a class=\"c1\" id=\"a1\">V1</a>, <a class=\"c1\" id=\"a2\">V2</a>]\n"
     ]
    }
   ],
   "source": [
    "html='''<a id='a1' class=\"c1\">V1</a>\n",
    "<a id='a2' class=\"c1\">V2</a>\n",
    "<a id='a3' class=\"c3\">V3</a>\n",
    "'''\n",
    "soup = BeautifulSoup(html,'html5lib')\n",
    "print(soup.find(id=\"a1\"))\n",
    "print(soup.select_one(\"#a2\"))\n",
    "print(soup.find_all(class_=\"c1\"))\n",
    "print(soup.select(\".c1\"))"
   ]
  },
  {
   "cell_type": "markdown",
   "id": "c56253cd",
   "metadata": {},
   "source": [
    "## 取得數值\n",
    "\n",
    "get(屬性)\n",
    "\n",
    "getText()"
   ]
  },
  {
   "cell_type": "code",
   "execution_count": 23,
   "id": "239f5074",
   "metadata": {},
   "outputs": [
    {
     "name": "stdout",
     "output_type": "stream",
     "text": [
      "Google\n",
      "https://google.com\n",
      "https://google.com Google\n",
      "https://yahoo.com Yahoo\n"
     ]
    }
   ],
   "source": [
    "html='''<a id='a1' class=\"c1\" href=\"https://google.com\">Google</a>\n",
    "<a id='a2' class=\"c1\"  href=\"https://yahoo.com\">Yahoo</a>\n",
    "<a id='a3' class=\"c3\" href=\"https://facebook.com\">Facebook</a>\n",
    "'''\n",
    "soup = BeautifulSoup(html,'html5lib')\n",
    "print(soup.find(id=\"a1\").getText())\n",
    "print(soup.find(id=\"a1\").get(\"href\"))\n",
    "tmpList = soup.find_all(class_=\"c1\")\n",
    "for tag in tmpList:\n",
    "    print(tag.get(\"href\"),tag.getText())\n"
   ]
  },
  {
   "cell_type": "code",
   "execution_count": 35,
   "id": "cafa64fc",
   "metadata": {},
   "outputs": [
    {
     "name": "stdout",
     "output_type": "stream",
     "text": [
      "1\n",
      "\n",
      "超級瑪利歐兄弟電影版\n",
      "$1,346,485,054\n",
      "\n",
      "2\n",
      "\n",
      "星際異攻隊3\n",
      "$843,618,544\n",
      "\n",
      "3\n",
      "\n",
      "玩命關頭X\n",
      "$704,709,660\n",
      "\n",
      "4\n",
      "\n",
      "蜘蛛人：穿越新宇宙\n",
      "$675,409,269\n",
      "\n",
      "5\n",
      "\n",
      "滿江紅\n",
      "$673,556,758\n",
      "\n",
      "6\n",
      "\n",
      "流浪地球2\n",
      "$604,456,556\n",
      "\n",
      "7\n",
      "\n",
      "小魚仙\n",
      "$556,404,338\n",
      "\n",
      "8\n",
      "\n",
      "消失的她\n",
      "$512,336,745\n",
      "\n",
      "9\n",
      "\n",
      "蟻人與黃蜂女：量子狂熱\n",
      "$476,071,180\n",
      "\n",
      "10\n",
      "\n",
      "變形金剛：萬獸崛起 \n",
      "$427,142,604\n",
      "\n"
     ]
    }
   ],
   "source": [
    "url = \"https://zh.wikipedia.org/zh-tw/2023年电影\"\n",
    "resp = requests.get(url)\n",
    "resp.encoding = \"utf-8\"\n",
    "soup = BeautifulSoup(resp.text,'html5lib')\n",
    "movieTable = soup.find(\"table\",class_=\"wikitable sortable\").find(\"tbody\")\n",
    "trList = movieTable.find_all(\"tr\")\n",
    "#print(trList)\n",
    "for inx in range(1,len(trList)):\n",
    "    print(trList[inx].find(\"th\").text)\n",
    "    print(trList[inx].select_one(\"a\").text)\n",
    "    print(trList[inx].find_all(\"td\")[2].text)"
   ]
  },
  {
   "cell_type": "code",
   "execution_count": null,
   "id": "da1f90e7",
   "metadata": {},
   "outputs": [],
   "source": []
  }
 ],
 "metadata": {
  "kernelspec": {
   "display_name": "Python 3 (ipykernel)",
   "language": "python",
   "name": "python3"
  },
  "language_info": {
   "codemirror_mode": {
    "name": "ipython",
    "version": 3
   },
   "file_extension": ".py",
   "mimetype": "text/x-python",
   "name": "python",
   "nbconvert_exporter": "python",
   "pygments_lexer": "ipython3",
   "version": "3.8.16"
  }
 },
 "nbformat": 4,
 "nbformat_minor": 5
}
