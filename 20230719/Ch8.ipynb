{
 "cells": [
  {
   "cell_type": "markdown",
   "id": "049ef267",
   "metadata": {},
   "source": [
    "# 物件導向入門"
   ]
  },
  {
   "cell_type": "code",
   "execution_count": 1,
   "id": "c251ca39",
   "metadata": {},
   "outputs": [
    {
     "name": "stdout",
     "output_type": "stream",
     "text": [
      "<__main__.Student object at 0x000001C8DFF8C0D0>\n"
     ]
    }
   ],
   "source": [
    "class Student: #類別\n",
    "    pass\n",
    "\n",
    "st1 = Student()#物件\n",
    "print(st1)\n"
   ]
  },
  {
   "cell_type": "code",
   "execution_count": 4,
   "id": "644c51c3",
   "metadata": {},
   "outputs": [
    {
     "name": "stdout",
     "output_type": "stream",
     "text": [
      "180\n",
      "75\n"
     ]
    },
    {
     "ename": "AttributeError",
     "evalue": "'Student' object has no attribute 'height'",
     "output_type": "error",
     "traceback": [
      "\u001b[1;31m---------------------------------------------------------------------------\u001b[0m",
      "\u001b[1;31mAttributeError\u001b[0m                            Traceback (most recent call last)",
      "Cell \u001b[1;32mIn[4], line 13\u001b[0m\n\u001b[0;32m      9\u001b[0m \u001b[38;5;28mprint\u001b[39m(st1\u001b[38;5;241m.\u001b[39mheight)\n\u001b[0;32m     10\u001b[0m \u001b[38;5;28mprint\u001b[39m(st1\u001b[38;5;241m.\u001b[39mweight)\n\u001b[1;32m---> 13\u001b[0m \u001b[38;5;28mprint\u001b[39m(\u001b[43mst2\u001b[49m\u001b[38;5;241;43m.\u001b[39;49m\u001b[43mheight\u001b[49m)\n\u001b[0;32m     14\u001b[0m \u001b[38;5;28mprint\u001b[39m(st2\u001b[38;5;241m.\u001b[39mweight)\n",
      "\u001b[1;31mAttributeError\u001b[0m: 'Student' object has no attribute 'height'"
     ]
    }
   ],
   "source": [
    "class Student: #類別\n",
    "    pass\n",
    "st1 = Student()\n",
    "st2 = Student()\n",
    "# 建立屬性\n",
    "st1.height = 180\n",
    "st1.weight = 75\n",
    "\n",
    "print(st1.height)\n",
    "print(st1.weight)\n",
    "\n",
    "\n",
    "print(st2.height)#因為沒有st2.height = 0\n",
    "print(st2.weight)\n"
   ]
  },
  {
   "cell_type": "code",
   "execution_count": 6,
   "id": "dd6f69ae",
   "metadata": {},
   "outputs": [
    {
     "name": "stdout",
     "output_type": "stream",
     "text": [
      "Ken 100 10\n",
      "Vivin 165 48\n"
     ]
    }
   ],
   "source": [
    "class Student: #類別\n",
    "    def __init__(self,name,height = 100,weight = 10):#可以設定屬性\n",
    "        self.name = name\n",
    "        self.height = height\n",
    "        self.weight = weight\n",
    "st1 = Student(\"Ken\")\n",
    "print(st1.name,st1.height,st1.weight)\n",
    "st2 = Student(\"Vivin\",165,48)\n",
    "print(st2.name,st2.height,st2.weight)"
   ]
  },
  {
   "cell_type": "code",
   "execution_count": 10,
   "id": "202ba15b",
   "metadata": {},
   "outputs": [
    {
     "name": "stdout",
     "output_type": "stream",
     "text": [
      "Joy 155 40\n",
      "Lucy 165 52\n"
     ]
    }
   ],
   "source": [
    "class Student: #類別\n",
    "    def __init__(self,name,height = 100,weight = 10):#可以設定屬性\n",
    "        self.name = name\n",
    "        self.height = height\n",
    "        self.weight = weight\n",
    "    def printInfo(self): #自定義的函數\n",
    "        print(self.name,self.height,self.weight)\n",
    "        \n",
    "st1 = Student(\"Joy\",155,40)        \n",
    "st1.printInfo()\n",
    "st2 = Student(\"Lucy\",165,52)\n",
    "st2.printInfo()"
   ]
  },
  {
   "cell_type": "markdown",
   "id": "387ba109",
   "metadata": {},
   "source": [
    "## 寫入檔案"
   ]
  },
  {
   "cell_type": "code",
   "execution_count": 11,
   "id": "b26e878f",
   "metadata": {},
   "outputs": [],
   "source": [
    "text = \"\"\"python與中文AAA\n",
    "1. 我們來試試看中文儲存能力。\n",
    "2. 許這個字會有編碼衝突風險。\n",
    "3. 犇這個字必須是utf8編碼才有。\n",
    "\"\"\"\n",
    "print(text,file=open('data.txt','w',encoding='utf-8'))"
   ]
  },
  {
   "cell_type": "markdown",
   "id": "35474f02",
   "metadata": {},
   "source": [
    "## 讀取"
   ]
  },
  {
   "cell_type": "code",
   "execution_count": 12,
   "id": "e807e270",
   "metadata": {},
   "outputs": [
    {
     "name": "stdout",
     "output_type": "stream",
     "text": [
      "python與中文AAA\n",
      "1. 我們來試試看中文儲存能力。\n",
      "2. 許這個字會有編碼衝突風險。\n",
      "3. 犇這個字必須是utf8編碼才有。\n",
      "\n",
      "\n"
     ]
    }
   ],
   "source": [
    "file = open(\"data.txt\",'r',encoding='utf-8')\n",
    "txt = file.read()\n",
    "print(txt)"
   ]
  },
  {
   "cell_type": "markdown",
   "id": "a4388fd5",
   "metadata": {},
   "source": [
    "### JSON"
   ]
  },
  {
   "cell_type": "code",
   "execution_count": 17,
   "id": "4a3f2c0f",
   "metadata": {},
   "outputs": [
    {
     "name": "stdout",
     "output_type": "stream",
     "text": [
      "<class 'str'>\n",
      "\"{\\\"python\\\":\\\"good\\\",\\\"score\\\":100,\\\"class\\\":true}\"\n",
      "<class 'dict'>\n",
      "100\n",
      "{'python': 'good', 'score': 100, 'class': True}\n"
     ]
    }
   ],
   "source": [
    "import json\n",
    "jsonStr = '{\"python\":\"good\",\"score\":100,\"class\":true}'\n",
    "json2 = json.dumps(jsonStr,ensure_ascii=False) #把物件轉成str\n",
    "print(type(json2))\n",
    "print(json2)\n",
    "json3 = json.loads(jsonStr)#重點Json格式的字串轉成字典\n",
    "print(type(json3))\n",
    "print(json3[\"score\"])\n",
    "print(json3)"
   ]
  },
  {
   "cell_type": "markdown",
   "id": "c93b9f70",
   "metadata": {},
   "source": [
    "# Python 程式偵錯\n",
    "\n",
    "+ Syntax Errors 語法錯誤\n",
    " + 該行語法錯誤，Python 無法編譯執行。\n",
    " + 修正語法錯誤\n",
    "+ Exception 例外\n",
    " + 語法撰寫上沒有錯誤，執行時因資料邏輯或外部系統狀態發生錯誤， Python 會引發例外(Exception) \n",
    " + 如果例外沒有被處理而傳遞到Python直譯器，程式中斷執行"
   ]
  },
  {
   "cell_type": "code",
   "execution_count": 32,
   "id": "f7ab11a5",
   "metadata": {},
   "outputs": [
    {
     "name": "stdout",
     "output_type": "stream",
     "text": [
      "5.0\n"
     ]
    }
   ],
   "source": [
    "num1 = 10\n",
    "num2 = 2\n",
    "\n",
    "try:\n",
    "    print(num1 / num2)\n",
    "except:    #如果有錯誤會執行這個區塊\n",
    "    print(\"分母不可為0\")"
   ]
  },
  {
   "cell_type": "markdown",
   "id": "582c0331",
   "metadata": {},
   "source": [
    "## Numpy\n",
    "+ 可做到的功能\n",
    "  + 快速的多維陣列操作。\n",
    "  + 可靠的科學功能函數庫。\n",
    "  + 可協助繪圖工具進行繪圖。\n",
    "+ NumPy 是幾乎每個科學 Python 應用程序或模組的核心，它提供了以向量化形式的快速 N-d 陣列類型可供操作。"
   ]
  },
  {
   "cell_type": "code",
   "execution_count": 37,
   "id": "a9b3afad",
   "metadata": {},
   "outputs": [
    {
     "name": "stdout",
     "output_type": "stream",
     "text": [
      "[ 4  8 11 14 18]\n",
      "[-2 -2 -1  0  0]\n",
      "[ 3 15 30 49 81]\n",
      "[0.33333333 0.6        0.83333333 1.         1.        ]\n"
     ]
    }
   ],
   "source": [
    "import numpy as np \n",
    "a = np.array([1,3,5,7,9])\n",
    "b = np.array([3,5,6,7,9])\n",
    "c = a + b\n",
    "print(c)\n",
    "c = a - b\n",
    "print(c)\n",
    "c = a * b\n",
    "print(c)\n",
    "c = a / b\n",
    "print(c)"
   ]
  },
  {
   "cell_type": "markdown",
   "id": "b8ec6063",
   "metadata": {},
   "source": [
    "## 陣列附加資料"
   ]
  },
  {
   "cell_type": "code",
   "execution_count": 39,
   "id": "f1b228a2",
   "metadata": {},
   "outputs": [
    {
     "name": "stdout",
     "output_type": "stream",
     "text": [
      "[ 1  3  5  7  9 10 11 12]\n"
     ]
    }
   ],
   "source": [
    "import numpy as np \n",
    "a = np.array([1,3,5,7,9])\n",
    "b = np.append(a,[10,11,12])\n",
    "print(b)"
   ]
  },
  {
   "cell_type": "markdown",
   "id": "b554920e",
   "metadata": {},
   "source": [
    "## 陣列插入資料"
   ]
  },
  {
   "cell_type": "code",
   "execution_count": 40,
   "id": "17d25d2b",
   "metadata": {},
   "outputs": [
    {
     "name": "stdout",
     "output_type": "stream",
     "text": [
      "[ 1  3 11 18  5  7  9]\n"
     ]
    }
   ],
   "source": [
    "import numpy as np \n",
    "a = np.array([1,3,5,7,9])\n",
    "b = np.insert(a,2,[11,18])\n",
    "print(b)"
   ]
  },
  {
   "cell_type": "markdown",
   "id": "c322a1f1",
   "metadata": {},
   "source": [
    "## 陣列刪除資料"
   ]
  },
  {
   "cell_type": "code",
   "execution_count": 41,
   "id": "7e5b827c",
   "metadata": {},
   "outputs": [
    {
     "name": "stdout",
     "output_type": "stream",
     "text": [
      "[1 3 7 9]\n"
     ]
    }
   ],
   "source": [
    "import numpy as np \n",
    "a = np.array([1,3,5,7,9])\n",
    "b = np.delete(a,2) #填上要移除的index\n",
    "print(b)"
   ]
  },
  {
   "cell_type": "code",
   "execution_count": 42,
   "id": "7caa3275",
   "metadata": {},
   "outputs": [
    {
     "name": "stdout",
     "output_type": "stream",
     "text": [
      "Requirement already satisfied: beautifulsoup4 in c:\\users\\xvpow\\anaconda3\\lib\\site-packages (4.12.2)\n",
      "Requirement already satisfied: soupsieve>1.2 in c:\\users\\xvpow\\anaconda3\\lib\\site-packages (from beautifulsoup4) (2.4)\n"
     ]
    }
   ],
   "source": [
    "! pip install beautifulsoup4"
   ]
  },
  {
   "cell_type": "code",
   "execution_count": 43,
   "id": "ac84f6ce",
   "metadata": {},
   "outputs": [
    {
     "name": "stdout",
     "output_type": "stream",
     "text": [
      "Requirement already satisfied: html5lib in c:\\users\\xvpow\\anaconda3\\lib\\site-packages (1.1)\n",
      "Requirement already satisfied: six>=1.9 in c:\\users\\xvpow\\anaconda3\\lib\\site-packages (from html5lib) (1.16.0)\n",
      "Requirement already satisfied: webencodings in c:\\users\\xvpow\\anaconda3\\lib\\site-packages (from html5lib) (0.5.1)\n"
     ]
    }
   ],
   "source": [
    "! pip install html5lib"
   ]
  },
  {
   "cell_type": "code",
   "execution_count": 44,
   "id": "da3234d2",
   "metadata": {},
   "outputs": [
    {
     "name": "stdout",
     "output_type": "stream",
     "text": [
      "Requirement already satisfied: requests in c:\\users\\xvpow\\anaconda3\\lib\\site-packages (2.28.2)\n",
      "Requirement already satisfied: charset-normalizer<4,>=2 in c:\\users\\xvpow\\anaconda3\\lib\\site-packages (from requests) (2.0.4)\n",
      "Requirement already satisfied: idna<4,>=2.5 in c:\\users\\xvpow\\anaconda3\\lib\\site-packages (from requests) (3.4)\n",
      "Requirement already satisfied: urllib3<1.27,>=1.21.1 in c:\\users\\xvpow\\anaconda3\\lib\\site-packages (from requests) (1.25.11)\n",
      "Requirement already satisfied: certifi>=2017.4.17 in c:\\users\\xvpow\\anaconda3\\lib\\site-packages (from requests) (2023.5.7)\n"
     ]
    }
   ],
   "source": [
    "! pip install requests"
   ]
  },
  {
   "cell_type": "code",
   "execution_count": 45,
   "id": "c692cabd",
   "metadata": {},
   "outputs": [
    {
     "name": "stdout",
     "output_type": "stream",
     "text": [
      "Requirement already satisfied: openai in c:\\users\\xvpow\\anaconda3\\lib\\site-packages (0.27.4)\n",
      "Requirement already satisfied: requests>=2.20 in c:\\users\\xvpow\\anaconda3\\lib\\site-packages (from openai) (2.28.2)\n",
      "Requirement already satisfied: tqdm in c:\\users\\xvpow\\anaconda3\\lib\\site-packages (from openai) (4.65.0)\n",
      "Requirement already satisfied: aiohttp in c:\\users\\xvpow\\anaconda3\\lib\\site-packages (from openai) (3.8.4)\n",
      "Requirement already satisfied: charset-normalizer<4,>=2 in c:\\users\\xvpow\\anaconda3\\lib\\site-packages (from requests>=2.20->openai) (2.0.4)\n",
      "Requirement already satisfied: idna<4,>=2.5 in c:\\users\\xvpow\\anaconda3\\lib\\site-packages (from requests>=2.20->openai) (3.4)\n",
      "Requirement already satisfied: urllib3<1.27,>=1.21.1 in c:\\users\\xvpow\\anaconda3\\lib\\site-packages (from requests>=2.20->openai) (1.25.11)\n",
      "Requirement already satisfied: certifi>=2017.4.17 in c:\\users\\xvpow\\anaconda3\\lib\\site-packages (from requests>=2.20->openai) (2023.5.7)\n",
      "Requirement already satisfied: attrs>=17.3.0 in c:\\users\\xvpow\\anaconda3\\lib\\site-packages (from aiohttp->openai) (22.1.0)\n",
      "Requirement already satisfied: multidict<7.0,>=4.5 in c:\\users\\xvpow\\anaconda3\\lib\\site-packages (from aiohttp->openai) (6.0.2)\n",
      "Requirement already satisfied: async-timeout<5.0,>=4.0.0a3 in c:\\users\\xvpow\\anaconda3\\lib\\site-packages (from aiohttp->openai) (4.0.2)\n",
      "Requirement already satisfied: yarl<2.0,>=1.0 in c:\\users\\xvpow\\anaconda3\\lib\\site-packages (from aiohttp->openai) (1.8.1)\n",
      "Requirement already satisfied: frozenlist>=1.1.1 in c:\\users\\xvpow\\anaconda3\\lib\\site-packages (from aiohttp->openai) (1.3.3)\n",
      "Requirement already satisfied: aiosignal>=1.1.2 in c:\\users\\xvpow\\anaconda3\\lib\\site-packages (from aiohttp->openai) (1.2.0)\n",
      "Requirement already satisfied: colorama in c:\\users\\xvpow\\anaconda3\\lib\\site-packages (from tqdm->openai) (0.4.6)\n"
     ]
    }
   ],
   "source": [
    "! pip install openai"
   ]
  },
  {
   "cell_type": "code",
   "execution_count": null,
   "id": "bc624871",
   "metadata": {},
   "outputs": [],
   "source": []
  }
 ],
 "metadata": {
  "kernelspec": {
   "display_name": "Python 3 (ipykernel)",
   "language": "python",
   "name": "python3"
  },
  "language_info": {
   "codemirror_mode": {
    "name": "ipython",
    "version": 3
   },
   "file_extension": ".py",
   "mimetype": "text/x-python",
   "name": "python",
   "nbconvert_exporter": "python",
   "pygments_lexer": "ipython3",
   "version": "3.8.16"
  }
 },
 "nbformat": 4,
 "nbformat_minor": 5
}
