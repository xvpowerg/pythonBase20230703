{
 "cells": [
  {
   "cell_type": "code",
   "execution_count": 9,
   "id": "50c981da",
   "metadata": {},
   "outputs": [
    {
     "name": "stdout",
     "output_type": "stream",
     "text": [
      "['Ken', 'Vivin', 'Lindy', 'Lucy', 'Joy']\n",
      "['Ken', 'Vivin', 'Lindy', 'Lucy']\n",
      "['Vivin', 'Lindy', 'Lucy']\n",
      "Joy\n",
      "Ken\n",
      "0\n"
     ]
    },
    {
     "ename": "IndexError",
     "evalue": "pop from empty list",
     "output_type": "error",
     "traceback": [
      "\u001b[1;31m---------------------------------------------------------------------------\u001b[0m",
      "\u001b[1;31mIndexError\u001b[0m                                Traceback (most recent call last)",
      "Cell \u001b[1;32mIn[9], line 13\u001b[0m\n\u001b[0;32m     11\u001b[0m v2 \u001b[38;5;241m=\u001b[39m list2\u001b[38;5;241m.\u001b[39mpop(\u001b[38;5;241m0\u001b[39m)\n\u001b[0;32m     12\u001b[0m \u001b[38;5;28mprint\u001b[39m(\u001b[38;5;28mlen\u001b[39m(list2))\n\u001b[1;32m---> 13\u001b[0m v2 \u001b[38;5;241m=\u001b[39m \u001b[43mlist2\u001b[49m\u001b[38;5;241;43m.\u001b[39;49m\u001b[43mpop\u001b[49m\u001b[43m(\u001b[49m\u001b[38;5;241;43m0\u001b[39;49m\u001b[43m)\u001b[49m\n",
      "\u001b[1;31mIndexError\u001b[0m: pop from empty list"
     ]
    }
   ],
   "source": [
    "list2 = ['Ken','Vivin','Lindy','Lucy','Joy']\n",
    "print(list2)\n",
    "v1 = list2.pop() #預設情況刪除尾部\n",
    "print(list2)\n",
    "v2 = list2.pop(0)\n",
    "print(list2)\n",
    "print(v1)\n",
    "print(v2)\n",
    "v2 = list2.pop(0)\n",
    "v2 = list2.pop(0)\n",
    "v2 = list2.pop(0)\n",
    "print(len(list2))\n",
    "v2 = list2.pop(0)#pop from empty list 因為List空了\n"
   ]
  },
  {
   "cell_type": "code",
   "execution_count": 12,
   "id": "683ef2bd",
   "metadata": {},
   "outputs": [
    {
     "name": "stdout",
     "output_type": "stream",
     "text": [
      "['Ken', 'Vivin', 'Lindy', 'Lucy', 'Joy', 'Lucy']\n",
      "['Ken', 'Lindy', 'Lucy', 'Joy', 'Lucy']\n",
      "['Ken', 'Lindy', 'Joy', 'Lucy']\n"
     ]
    },
    {
     "ename": "ValueError",
     "evalue": "list.remove(x): x not in list",
     "output_type": "error",
     "traceback": [
      "\u001b[1;31m---------------------------------------------------------------------------\u001b[0m",
      "\u001b[1;31mValueError\u001b[0m                                Traceback (most recent call last)",
      "Cell \u001b[1;32mIn[12], line 7\u001b[0m\n\u001b[0;32m      5\u001b[0m list2\u001b[38;5;241m.\u001b[39mremove(\u001b[38;5;124m\"\u001b[39m\u001b[38;5;124mLucy\u001b[39m\u001b[38;5;124m\"\u001b[39m)\n\u001b[0;32m      6\u001b[0m \u001b[38;5;28mprint\u001b[39m(list2)\n\u001b[1;32m----> 7\u001b[0m \u001b[43mlist2\u001b[49m\u001b[38;5;241;43m.\u001b[39;49m\u001b[43mremove\u001b[49m\u001b[43m(\u001b[49m\u001b[38;5;124;43m\"\u001b[39;49m\u001b[38;5;124;43mIris\u001b[39;49m\u001b[38;5;124;43m\"\u001b[39;49m\u001b[43m)\u001b[49m \u001b[38;5;66;03m#Iris不存在所以會出錯\u001b[39;00m\n\u001b[0;32m      8\u001b[0m \u001b[38;5;28mprint\u001b[39m(list2)\n",
      "\u001b[1;31mValueError\u001b[0m: list.remove(x): x not in list"
     ]
    }
   ],
   "source": [
    "list2 = ['Ken','Vivin','Lindy','Lucy','Joy','Lucy']\n",
    "print(list2)\n",
    "list2.remove(\"Vivin\")\n",
    "print(list2)\n",
    "list2.remove(\"Lucy\")\n",
    "print(list2)\n",
    "list2.remove(\"Iris\") #Iris不存在所以會出錯\n",
    "print(list2)"
   ]
  },
  {
   "cell_type": "code",
   "execution_count": 15,
   "id": "8d172ed9",
   "metadata": {},
   "outputs": [
    {
     "name": "stdout",
     "output_type": "stream",
     "text": [
      "['A', 'B', 'C', 'D']\n",
      "['A', 'B', 'D']\n",
      "['A']\n"
     ]
    }
   ],
   "source": [
    "list3 = ['A','B','C','D']\n",
    "print(list3)\n",
    "del list3[2]\n",
    "print(list3)\n",
    "del list3[1:]\n",
    "print(list3)"
   ]
  },
  {
   "cell_type": "markdown",
   "id": "71fc8f4d",
   "metadata": {},
   "source": [
    "## Sort\n",
    "+ list 進行排序有 sorted( ) 與 sort( ) 兩個動作。\n",
    "+ 兩者差異：\n",
    "  + sorted()\n",
    "    + 不會影響 list 本身結構，且可以輸出結果。\n",
    "    + sorted(list項目)。\n",
    "    + sorted( ) 可用來排序任何項目。\n",
    "+ sort()\n",
    "    + 會影響 list 本身結構，且不可以於操作這個動作時進行輸出。\n",
    "    + list.sort( )。\n",
    "    + sort( ) 只能用在list上排序。"
   ]
  },
  {
   "cell_type": "markdown",
   "id": "9a1b5ad5",
   "metadata": {},
   "source": [
    "### 排序原則與參數\n",
    "+ 排序原則：\n",
    "  + 數字則依照大小排序。\n",
    "  + 字串則依照 ASCII 編碼順序進行排序。\n",
    "+ 可加入的參數：\n",
    "   + reverse=True  \n",
    "     + 有這個參數由大到小排序\n",
    "     + 若沒有這個參數則由小到大排序"
   ]
  },
  {
   "cell_type": "code",
   "execution_count": 19,
   "id": "25100468",
   "metadata": {},
   "outputs": [
    {
     "name": "stdout",
     "output_type": "stream",
     "text": [
      "[8, 9, 2, 7, 6]\n",
      "[2, 6, 7, 8, 9]\n",
      "[9, 8, 7, 6, 2]\n"
     ]
    }
   ],
   "source": [
    "list4 = [8,9,2,7,6]\n",
    "print(list4)\n",
    "list4.sort()\n",
    "print(list4)#ASC 預設小到大排序\n",
    "list4.sort(reverse = True)#DESC 大到小排序\n",
    "print(list4)"
   ]
  },
  {
   "cell_type": "code",
   "execution_count": 24,
   "id": "df52f9f7",
   "metadata": {},
   "outputs": [
    {
     "name": "stdout",
     "output_type": "stream",
     "text": [
      "['c', 'Bz', 'a']\n",
      "['Bz', 'a', 'c']\n"
     ]
    }
   ],
   "source": [
    "# 小寫 > 大寫 > 數字\n",
    "list5 = ['c','Bz','a']\n",
    "print(list5)\n",
    "list5.sort()\n",
    "print(list5)"
   ]
  },
  {
   "cell_type": "markdown",
   "id": "d65d78a8",
   "metadata": {},
   "source": [
    "### sorted"
   ]
  },
  {
   "cell_type": "code",
   "execution_count": 26,
   "id": "c82bf54c",
   "metadata": {},
   "outputs": [
    {
     "name": "stdout",
     "output_type": "stream",
     "text": [
      "[2, 6, 1]\n",
      "[2, 6, 1]\n",
      "[1, 2, 6]\n"
     ]
    }
   ],
   "source": [
    "list6 = [2,6,1]\n",
    "print(list6)\n",
    "list7 = sorted(list6)\n",
    "print(list6)## 沒排序因為sorted會產生新的List\n",
    "print(list7)"
   ]
  },
  {
   "cell_type": "markdown",
   "id": "ec6edd32",
   "metadata": {},
   "source": [
    "## 作業"
   ]
  },
  {
   "cell_type": "code",
   "execution_count": null,
   "id": "b2ae9046",
   "metadata": {},
   "outputs": [],
   "source": [
    "fruits = [\"西瓜\",\"蘋果\",\"鳳梨\"]\n",
    "# 輸入水果名稱\n",
    "# 判斷輸入的水果名稱再否在清單內\n"
   ]
  },
  {
   "cell_type": "markdown",
   "id": "95bf9a07",
   "metadata": {},
   "source": [
    "## 字典\n",
    "### Key 與 Value的關係\n",
    "### 例子:身份證(Key) 與 人(Value) 這叫一對一\n",
    "### 例子:地址(Key) 與 一群人(Value) 這叫一對多\n"
   ]
  },
  {
   "cell_type": "code",
   "execution_count": 30,
   "id": "b77cab43",
   "metadata": {
    "scrolled": true
   },
   "outputs": [
    {
     "name": "stdout",
     "output_type": "stream",
     "text": [
      "{'a': 100, 'b': 200, 'c': 300}\n",
      "200\n",
      "100\n"
     ]
    },
    {
     "ename": "KeyError",
     "evalue": "'g'",
     "output_type": "error",
     "traceback": [
      "\u001b[1;31m---------------------------------------------------------------------------\u001b[0m",
      "\u001b[1;31mKeyError\u001b[0m                                  Traceback (most recent call last)",
      "Cell \u001b[1;32mIn[30], line 5\u001b[0m\n\u001b[0;32m      3\u001b[0m \u001b[38;5;28mprint\u001b[39m(dict1[\u001b[38;5;124m'\u001b[39m\u001b[38;5;124mb\u001b[39m\u001b[38;5;124m'\u001b[39m])\n\u001b[0;32m      4\u001b[0m \u001b[38;5;28mprint\u001b[39m(dict1[\u001b[38;5;124m'\u001b[39m\u001b[38;5;124ma\u001b[39m\u001b[38;5;124m'\u001b[39m])\n\u001b[1;32m----> 5\u001b[0m \u001b[38;5;28mprint\u001b[39m(\u001b[43mdict1\u001b[49m\u001b[43m[\u001b[49m\u001b[38;5;124;43m'\u001b[39;49m\u001b[38;5;124;43mg\u001b[39;49m\u001b[38;5;124;43m'\u001b[39;49m\u001b[43m]\u001b[49m)\n",
      "\u001b[1;31mKeyError\u001b[0m: 'g'"
     ]
    }
   ],
   "source": [
    "dict1 = {'a':100,'b':200,'c':300}\n",
    "print(dict1)\n",
    "print(dict1['b'])\n",
    "print(dict1['a'])\n",
    "print(dict1['g'])#因為沒有g所以出錯KeyError"
   ]
  },
  {
   "cell_type": "markdown",
   "id": "2b4ac559",
   "metadata": {},
   "source": [
    "## key 與 value\n",
    "+ key 不能於程式內改變：\n",
    "  + 可以用數字、字串或者 tuple。\n",
    "  + 不可以使用 list。\n",
    "+ 如何找出所有的 key 與 value？\n",
    "  + 您可以透過 dict1.keys( ) 這個方法找出所有的 key。\n",
    "  + 您可以透過 dict1.values( ) 這個方法找出所有的 value。"
   ]
  },
  {
   "cell_type": "code",
   "execution_count": 32,
   "id": "3e2d73e2",
   "metadata": {},
   "outputs": [
    {
     "name": "stdout",
     "output_type": "stream",
     "text": [
      "dict_keys(['a', 'b', 'c'])\n",
      "dict_values([100, 200, 300])\n"
     ]
    }
   ],
   "source": [
    "dict1 = {'a':100,'b':200,'c':300}\n",
    "print(dict1.keys())\n",
    "print(dict1.values())"
   ]
  },
  {
   "cell_type": "code",
   "execution_count": 46,
   "id": "64fb1045",
   "metadata": {},
   "outputs": [
    {
     "name": "stdout",
     "output_type": "stream",
     "text": [
      "{'a': 100, 'b': 200, 'c': 300}\n",
      "{'a': 100, 'b': 200, 'c': 300, 'd': 400}\n",
      "150\n",
      "{'a': 100, 'b': 200, 'c': 150, 'd': 400}\n",
      "{'a': 100, 'b': 200, 'c': 150, 'd': 400, 'f': 77}\n"
     ]
    }
   ],
   "source": [
    "dict1 = {'a':100,'b':200,'c':300}\n",
    "print(dict1)\n",
    "add_dic = {'d': 400}\n",
    "dict1.update(add_dic)\n",
    "print(dict1)\n",
    "dict1['c'] = 150 #因為c存在所以修改\n",
    "print(dict1['c'])\n",
    "print(dict1)\n",
    "dict1['f'] = 77 #因為f 不存在所以新增\n",
    "print(dict1)"
   ]
  },
  {
   "attachments": {},
   "cell_type": "markdown",
   "id": "2bbedcca",
   "metadata": {},
   "source": [
    "## 刪除動作\n",
    "\n",
    "刪除動作可分刪除資料、清除所有項目與刪除字典三種：\n",
    "\n",
    "del dict[key]    刪除某一個 key 的資料\n",
    "\n",
    "dict.clear( )     清除所有項目\n",
    "\n",
    "del dict           刪除字典\n"
   ]
  },
  {
   "cell_type": "code",
   "execution_count": 48,
   "id": "bfef3228",
   "metadata": {},
   "outputs": [
    {
     "name": "stdout",
     "output_type": "stream",
     "text": [
      "{'ken': 199, 'vivin': 95, 'lucy': 72, 'lindy': 81}\n",
      "{'ken': 199, 'lucy': 72, 'lindy': 81}\n",
      "{}\n"
     ]
    }
   ],
   "source": [
    "dict2 = {\"ken\":199,\"vivin\":95,\"lucy\":72,\"lindy\":81}\n",
    "print(dict2)\n",
    "del dict2[\"vivin\"]\n",
    "print(dict2)\n",
    "dict2.clear()\n",
    "print(dict2)"
   ]
  },
  {
   "attachments": {},
   "cell_type": "markdown",
   "id": "749dd42c",
   "metadata": {},
   "source": [
    "## key 的判斷\n",
    "### 存在傳回 True\n",
    "### 不存在傳回 False"
   ]
  },
  {
   "cell_type": "code",
   "execution_count": 54,
   "id": "ef810165",
   "metadata": {},
   "outputs": [
    {
     "name": "stdout",
     "output_type": "stream",
     "text": [
      "True\n",
      "True\n",
      "False\n"
     ]
    }
   ],
   "source": [
    "dict2 = {\"ken\":199,\"vivin\":95,\"lucy\":72,\"lindy\":81}\n",
    "print(\"ken\" in dict2.keys() )  \n",
    "print( \"vivin\" in dict2) \n",
    "print( \"ben\" in dict2) "
   ]
  },
  {
   "cell_type": "code",
   "execution_count": 56,
   "id": "64db7e54",
   "metadata": {},
   "outputs": [
    {
     "name": "stdout",
     "output_type": "stream",
     "text": [
      "ken 199\n",
      "vivin 95\n",
      "lucy 72\n",
      "lindy 81\n"
     ]
    }
   ],
   "source": [
    "dict2 = {\"ken\":199,\"vivin\":95,\"lucy\":72,\"lindy\":81}\n",
    "for key in dict2.keys():\n",
    "    print(key,dict2[key])\n",
    "    "
   ]
  },
  {
   "cell_type": "markdown",
   "id": "1dfe9bfd",
   "metadata": {},
   "source": [
    "## Function\n",
    "\n",
    "+ 自訂函數的目的：\n",
    "  + 減少相同的語法重複出現。\n",
    "  + 避免重複出現的目的，是未來維護程式只要維護一個地方，不用改好幾個地方。改好幾個地方代表出錯的機率愈大。\n",
    "+ 被呼叫的函數必須放在程式區塊的上方，代表已經準備好了，下方的程式區塊才可以呼叫使用。\n",
    "+ 自訂函數可以放在其他檔案內，之後以模組引用 import 的方式使用：\n",
    "  + 那自訂函數的內容就交給其他人負責，而你就只負責主程式的流程。\n",
    "+ 在python函數是一種物件"
   ]
  },
  {
   "cell_type": "code",
   "execution_count": 82,
   "id": "93bc439d",
   "metadata": {},
   "outputs": [
    {
     "name": "stdout",
     "output_type": "stream",
     "text": [
      "Func1\n",
      "30\n"
     ]
    }
   ],
   "source": [
    "#func1()\n",
    "def func1():\n",
    "    print(\"Func1\")\n",
    "\n",
    "func1()\n",
    "x1 = 10\n",
    "x2 = 20\n",
    "print(x1+x2)\n",
    "#del func1"
   ]
  },
  {
   "cell_type": "code",
   "execution_count": 87,
   "id": "16ebe56b",
   "metadata": {},
   "outputs": [
    {
     "name": "stdout",
     "output_type": "stream",
     "text": [
      "250\n"
     ]
    }
   ],
   "source": [
    "def func2(x1,x2):\n",
    "    print(x1 + x2 * 12)\n",
    "    \n",
    "func2(10,20)    "
   ]
  },
  {
   "cell_type": "code",
   "execution_count": 86,
   "id": "480903d3",
   "metadata": {},
   "outputs": [
    {
     "name": "stdout",
     "output_type": "stream",
     "text": [
      "250\n",
      "250\n",
      "250\n",
      "250\n"
     ]
    }
   ],
   "source": [
    "func2(10,20)\n",
    "\n",
    "func2(10,20) \n",
    "\n",
    "func2(10,20)  \n",
    "\n",
    "func2(10,20)  \n"
   ]
  },
  {
   "cell_type": "code",
   "execution_count": null,
   "id": "7aaf6a00",
   "metadata": {},
   "outputs": [],
   "source": []
  }
 ],
 "metadata": {
  "kernelspec": {
   "display_name": "Python 3 (ipykernel)",
   "language": "python",
   "name": "python3"
  },
  "language_info": {
   "codemirror_mode": {
    "name": "ipython",
    "version": 3
   },
   "file_extension": ".py",
   "mimetype": "text/x-python",
   "name": "python",
   "nbconvert_exporter": "python",
   "pygments_lexer": "ipython3",
   "version": "3.8.16"
  }
 },
 "nbformat": 4,
 "nbformat_minor": 5
}
