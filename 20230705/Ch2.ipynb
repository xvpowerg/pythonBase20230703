{
 "cells": [
  {
   "cell_type": "code",
   "execution_count": 5,
   "id": "2aa9fe70",
   "metadata": {},
   "outputs": [
    {
     "name": "stdout",
     "output_type": "stream",
     "text": [
      "<class 'int'>\n",
      "<class 'float'>\n",
      "<class 'bool'>\n",
      "<class 'str'>\n"
     ]
    }
   ],
   "source": [
    "var1 = 20\n",
    "print(type(var1))\n",
    "var2 = 123.45\n",
    "print(type(var2))\n",
    "var3 = True\n",
    "print(type(var3))\n",
    "var4 = \"ken\"\n",
    "print(type(var4))"
   ]
  },
  {
   "cell_type": "code",
   "execution_count": 11,
   "id": "00d7493b",
   "metadata": {},
   "outputs": [
    {
     "name": "stdout",
     "output_type": "stream",
     "text": [
      "140737344646656\n",
      "2409405037232\n"
     ]
    }
   ],
   "source": [
    "a = 20\n",
    "print(id(a))\n",
    "a = \"AA\"\n",
    "print(id(a))\n"
   ]
  },
  {
   "cell_type": "code",
   "execution_count": 12,
   "id": "dd192ca6",
   "metadata": {},
   "outputs": [
    {
     "name": "stdout",
     "output_type": "stream",
     "text": [
      "1\n",
      "3\n"
     ]
    }
   ],
   "source": [
    "x,y = 1,3\n",
    "print(x)\n",
    "print(y)"
   ]
  },
  {
   "cell_type": "code",
   "execution_count": 27,
   "id": "54ae4372",
   "metadata": {},
   "outputs": [
    {
     "name": "stdout",
     "output_type": "stream",
     "text": [
      "X= 1\n",
      "Y= 3\n"
     ]
    }
   ],
   "source": [
    "x,y = 1,3\n",
    "print(\"X=\",x)\n",
    "#print(\"X=\",x,sep=\"\") #移除空白\n",
    "print(\"Y=\",y)"
   ]
  },
  {
   "cell_type": "markdown",
   "id": "7dad77b7",
   "metadata": {},
   "source": [
    "## str()\n",
    "### str()某些類型轉字串"
   ]
  },
  {
   "cell_type": "code",
   "execution_count": 26,
   "id": "692a7963",
   "metadata": {},
   "outputs": [
    {
     "name": "stdout",
     "output_type": "stream",
     "text": [
      "X=1\n"
     ]
    }
   ],
   "source": [
    "x,y = 1,3\n",
    "msg1 = \"X=\"+str(x)\n",
    "print(msg1)"
   ]
  },
  {
   "cell_type": "code",
   "execution_count": 33,
   "id": "8a5dbfd4",
   "metadata": {},
   "outputs": [
    {
     "name": "stdout",
     "output_type": "stream",
     "text": [
      "Hi Hi Hi \n"
     ]
    }
   ],
   "source": [
    "msg2 = \"Hi \" * 3\n",
    "print(msg2)"
   ]
  },
  {
   "cell_type": "markdown",
   "id": "e9c848f7",
   "metadata": {},
   "source": [
    "## 輸入\n",
    "### input(\"提示詞\")\n",
    "### 輸入後內容預設為字串\n"
   ]
  },
  {
   "cell_type": "code",
   "execution_count": 1,
   "id": "0b8903ad",
   "metadata": {},
   "outputs": [
    {
     "name": "stdout",
     "output_type": "stream",
     "text": [
      "輸入姓名:Ken\n",
      "Ken\n",
      "<class 'str'>\n"
     ]
    }
   ],
   "source": [
    "a = input(\"輸入姓名:\")\n",
    "print(a)\n",
    "print(type(a))"
   ]
  },
  {
   "cell_type": "code",
   "execution_count": 12,
   "id": "d2e01590",
   "metadata": {},
   "outputs": [
    {
     "name": "stdout",
     "output_type": "stream",
     "text": [
      "輸入成績:85\n",
      "<class 'str'>\n",
      "90\n",
      "<class 'int'>\n"
     ]
    }
   ],
   "source": [
    "c = input(\"輸入成績:\")\n",
    "print(type(c))\n",
    "c = int(c)#把字串轉為int \n",
    "print(c+ 5)\n",
    "print(type(c))"
   ]
  },
  {
   "cell_type": "code",
   "execution_count": 12,
   "id": "ed1bf7d3",
   "metadata": {},
   "outputs": [
    {
     "name": "stdout",
     "output_type": "stream",
     "text": [
      "8\n",
      "16\n",
      "1\n",
      "1.3333333333333333\n",
      "1\n",
      "0\n"
     ]
    }
   ],
   "source": [
    "a,b,c = 4,2,5\n",
    "d,f = 3,5\n",
    "print(a * b)\n",
    "print(a ** b)\n",
    "print(a % 3)\n",
    "print(a / 3)\n",
    "print(a // 3)\n",
    "print(c - f)"
   ]
  },
  {
   "cell_type": "code",
   "execution_count": 16,
   "id": "489efd71",
   "metadata": {},
   "outputs": [
    {
     "name": "stdout",
     "output_type": "stream",
     "text": [
      "2\n",
      "3\n",
      "8\n"
     ]
    }
   ],
   "source": [
    "coin = 2\n",
    "print(coin)\n",
    "# coin = coin - 1 \n",
    "coin += 1\n",
    "print(coin)\n",
    "coin += 5\n",
    "print(coin)"
   ]
  },
  {
   "cell_type": "code",
   "execution_count": 20,
   "id": "fa9a5867",
   "metadata": {},
   "outputs": [
    {
     "name": "stdout",
     "output_type": "stream",
     "text": [
      "True\n",
      "False\n",
      "False\n",
      "True\n"
     ]
    }
   ],
   "source": [
    "print(3 < 5)\n",
    "print(6 <= 5)\n",
    "print(5 < 5)\n",
    "print(5 <= 5)"
   ]
  },
  {
   "cell_type": "code",
   "execution_count": 21,
   "id": "7ad16b5e",
   "metadata": {},
   "outputs": [
    {
     "name": "stdout",
     "output_type": "stream",
     "text": [
      "False\n",
      "True\n",
      "True\n"
     ]
    }
   ],
   "source": [
    "x1,x2,x3 = 10,20,10\n",
    "print(x1 == x2)\n",
    "print(x1 == x3)\n",
    "print(x1 != x2)\n"
   ]
  },
  {
   "cell_type": "code",
   "execution_count": 24,
   "id": "da0133e9",
   "metadata": {},
   "outputs": [
    {
     "name": "stdout",
     "output_type": "stream",
     "text": [
      "大於18\n"
     ]
    }
   ],
   "source": [
    "a = 21\n",
    "if a > 18:\n",
    "    print(\"大於18\")\n",
    "      "
   ]
  },
  {
   "cell_type": "code",
   "execution_count": 29,
   "id": "1a7ab6d1",
   "metadata": {},
   "outputs": [
    {
     "name": "stdout",
     "output_type": "stream",
     "text": [
      "不大於18\n"
     ]
    }
   ],
   "source": [
    "a = 15\n",
    "if a > 18:\n",
    "    print(\"大於18\")\n",
    "else:\n",
    "    print(\"不大於18\")"
   ]
  },
  {
   "cell_type": "code",
   "execution_count": null,
   "id": "69120680",
   "metadata": {},
   "outputs": [],
   "source": []
  }
 ],
 "metadata": {
  "kernelspec": {
   "display_name": "Python 3 (ipykernel)",
   "language": "python",
   "name": "python3"
  },
  "language_info": {
   "codemirror_mode": {
    "name": "ipython",
    "version": 3
   },
   "file_extension": ".py",
   "mimetype": "text/x-python",
   "name": "python",
   "nbconvert_exporter": "python",
   "pygments_lexer": "ipython3",
   "version": "3.8.16"
  }
 },
 "nbformat": 4,
 "nbformat_minor": 5
}
