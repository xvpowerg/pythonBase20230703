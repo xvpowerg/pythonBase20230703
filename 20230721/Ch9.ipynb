{
 "cells": [
  {
   "cell_type": "code",
   "execution_count": 6,
   "id": "675fab01",
   "metadata": {},
   "outputs": [
    {
     "name": "stdout",
     "output_type": "stream",
     "text": [
      "https://opendata.cwb.gov.tw/api/v1/rest/datastore/O-A0005-001?Authorization=rdec-key-123-45678-011121314\n"
     ]
    }
   ],
   "source": [
    "import requests\n",
    "API_KEY = \"rdec-key-123-45678-011121314\"\n",
    "url = f\"https://opendata.cwb.gov.tw/api/v1/rest/datastore/O-A0005-001?Authorization={API_KEY}\"\n",
    "print(url)"
   ]
  },
  {
   "cell_type": "code",
   "execution_count": 16,
   "id": "6c70778b",
   "metadata": {},
   "outputs": [
    {
     "name": "stdout",
     "output_type": "stream",
     "text": [
      "<class 'dict'>\n",
      "{'success': 'true', 'result': {'resource_id': 'O-A0005-001', 'fields': [{'id': 'elementName', 'type': 'String'}, {'id': 'dataTime', 'type': 'Date'}, {'id': 'locationCode', 'type': 'Integer'}, {'id': 'value', 'type': 'Float'}]}, 'records': {'weatherElement': {'elementName': '氣象站每日紫外線指數最大值', 'time': {'dataTime': '2023/07/21'}, 'location': [{'locationCode': '467350', 'value': 11.26}, {'locationCode': '467270', 'value': 10.24}, {'locationCode': '467110', 'value': 11.76}, {'locationCode': '467300', 'value': 12.44}, {'locationCode': '466940', 'value': 12.27}, {'locationCode': '466950', 'value': 11.88}, {'locationCode': '466920', 'value': 10.67}, {'locationCode': '466930', 'value': -999.0}, {'locationCode': '466900', 'value': 11.3}, {'locationCode': '466910', 'value': 11.79}, {'locationCode': '467990', 'value': 12.27}, {'locationCode': '467420', 'value': 12.68}, {'locationCode': '466990', 'value': 12.71}, {'locationCode': '467480', 'value': 13.2}, {'locationCode': '467490', 'value': 12.27}, {'locationCode': '467441', 'value': 11.9}, {'locationCode': '467620', 'value': 13.58}, {'locationCode': '467050', 'value': 11.95}, {'locationCode': '467610', 'value': 13.74}, {'locationCode': '467660', 'value': 12.58}, {'locationCode': '467590', 'value': 14.01}, {'locationCode': '467650', 'value': 9.62}, {'locationCode': '467571', 'value': 12.09}, {'locationCode': '467410', 'value': 12.78}, {'locationCode': '467550', 'value': 12.43}, {'locationCode': '467540', 'value': 14.37}, {'locationCode': '467080', 'value': 12.05}]}}}\n",
      "===============================================================\n",
      "{'locationCode': '467350', 'value': 11.26}\n",
      "{'locationCode': '467270', 'value': 10.24}\n",
      "{'locationCode': '467110', 'value': 11.76}\n",
      "{'locationCode': '467300', 'value': 12.44}\n",
      "{'locationCode': '466940', 'value': 12.27}\n",
      "{'locationCode': '466950', 'value': 11.88}\n",
      "{'locationCode': '466920', 'value': 10.67}\n",
      "{'locationCode': '466930', 'value': -999.0}\n",
      "{'locationCode': '466900', 'value': 11.3}\n",
      "{'locationCode': '466910', 'value': 11.79}\n",
      "{'locationCode': '467990', 'value': 12.27}\n",
      "{'locationCode': '467420', 'value': 12.68}\n",
      "{'locationCode': '466990', 'value': 12.71}\n",
      "{'locationCode': '467480', 'value': 13.2}\n",
      "{'locationCode': '467490', 'value': 12.27}\n",
      "{'locationCode': '467441', 'value': 11.9}\n",
      "{'locationCode': '467620', 'value': 13.58}\n",
      "{'locationCode': '467050', 'value': 11.95}\n",
      "{'locationCode': '467610', 'value': 13.74}\n",
      "{'locationCode': '467660', 'value': 12.58}\n",
      "{'locationCode': '467590', 'value': 14.01}\n",
      "{'locationCode': '467650', 'value': 9.62}\n",
      "{'locationCode': '467571', 'value': 12.09}\n",
      "{'locationCode': '467410', 'value': 12.78}\n",
      "{'locationCode': '467550', 'value': 12.43}\n",
      "{'locationCode': '467540', 'value': 14.37}\n",
      "{'locationCode': '467080', 'value': 12.05}\n"
     ]
    }
   ],
   "source": [
    "resp = requests.get(url)\n",
    "resp.encoding = \"utf-8\"\n",
    "jsonData = resp.json()\n",
    "print(type(jsonData))\n",
    "print(jsonData)\n",
    "print(\"===============================================================\")\n",
    "weatherElement = jsonData[\"records\"][\"weatherElement\"]\n",
    "location = weatherElement[\"location\"]\n",
    "for v in location:\n",
    "    print(v)"
   ]
  },
  {
   "cell_type": "code",
   "execution_count": null,
   "id": "1d0833d3",
   "metadata": {},
   "outputs": [],
   "source": []
  }
 ],
 "metadata": {
  "kernelspec": {
   "display_name": "Python 3 (ipykernel)",
   "language": "python",
   "name": "python3"
  },
  "language_info": {
   "codemirror_mode": {
    "name": "ipython",
    "version": 3
   },
   "file_extension": ".py",
   "mimetype": "text/x-python",
   "name": "python",
   "nbconvert_exporter": "python",
   "pygments_lexer": "ipython3",
   "version": "3.8.16"
  }
 },
 "nbformat": 4,
 "nbformat_minor": 5
}
