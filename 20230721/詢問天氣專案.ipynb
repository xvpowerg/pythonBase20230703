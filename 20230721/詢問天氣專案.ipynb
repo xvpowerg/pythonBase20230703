{
 "cells": [
  {
   "cell_type": "code",
   "execution_count": 11,
   "id": "5cb6a634",
   "metadata": {},
   "outputs": [],
   "source": [
    "import requests\n",
    "API_KEY = \"rdec-key-123-45678-011121314\""
   ]
  },
  {
   "cell_type": "code",
   "execution_count": 12,
   "id": "8a6d2d6b",
   "metadata": {},
   "outputs": [],
   "source": [
    "def getJson(url):\n",
    "    resp = requests.get(url)\n",
    "    resp.encoding=\"utf-8\"\n",
    "    data = resp.json()\n",
    "    return data"
   ]
  },
  {
   "cell_type": "code",
   "execution_count": 13,
   "id": "100e48f0",
   "metadata": {},
   "outputs": [
    {
     "name": "stdout",
     "output_type": "stream",
     "text": [
      "{'success': 'true', 'result': {'resource_id': 'F-C0032-001', 'fields': [{'id': 'datasetDescription', 'type': 'String'}, {'id': 'locationName', 'type': 'String'}, {'id': 'parameterName', 'type': 'String'}, {'id': 'parameterValue', 'type': 'String'}, {'id': 'parameterUnit', 'type': 'String'}, {'id': 'startTime', 'type': 'Timestamp'}, {'id': 'endTime', 'type': 'Timestamp'}]}, 'records': {'datasetDescription': '三十六小時天氣預報', 'location': [{'locationName': '臺北市', 'weatherElement': [{'elementName': 'Wx', 'time': [{'startTime': '2023-07-21 12:00:00', 'endTime': '2023-07-21 18:00:00', 'parameter': {'parameterName': '多雲午後短暫雷陣雨', 'parameterValue': '22'}}, {'startTime': '2023-07-21 18:00:00', 'endTime': '2023-07-22 06:00:00', 'parameter': {'parameterName': '多雲', 'parameterValue': '4'}}, {'startTime': '2023-07-22 06:00:00', 'endTime': '2023-07-22 18:00:00', 'parameter': {'parameterName': '多雲午後短暫雷陣雨', 'parameterValue': '22'}}]}, {'elementName': 'MinT', 'time': [{'startTime': '2023-07-21 12:00:00', 'endTime': '2023-07-21 18:00:00', 'parameter': {'parameterName': '31', 'parameterUnit': 'C'}}, {'startTime': '2023-07-21 18:00:00', 'endTime': '2023-07-22 06:00:00', 'parameter': {'parameterName': '27', 'parameterUnit': 'C'}}, {'startTime': '2023-07-22 06:00:00', 'endTime': '2023-07-22 18:00:00', 'parameter': {'parameterName': '27', 'parameterUnit': 'C'}}]}, {'elementName': 'MaxT', 'time': [{'startTime': '2023-07-21 12:00:00', 'endTime': '2023-07-21 18:00:00', 'parameter': {'parameterName': '35', 'parameterUnit': 'C'}}, {'startTime': '2023-07-21 18:00:00', 'endTime': '2023-07-22 06:00:00', 'parameter': {'parameterName': '31', 'parameterUnit': 'C'}}, {'startTime': '2023-07-22 06:00:00', 'endTime': '2023-07-22 18:00:00', 'parameter': {'parameterName': '35', 'parameterUnit': 'C'}}]}]}]}}\n"
     ]
    }
   ],
   "source": [
    "url = f\"https://opendata.cwb.gov.tw/api/v1/rest/datastore/F-C0032-001?Authorization={API_KEY}&format=JSON&locationName=臺北市&elementName=Wx,MinT,MaxT\"\n",
    "jsonObj = getJson(url)\n",
    "print(jsonObj)"
   ]
  },
  {
   "cell_type": "code",
   "execution_count": 16,
   "id": "84af52f4",
   "metadata": {},
   "outputs": [],
   "source": [
    "def getParameter(typeStr,data):\n",
    "     strMsg = \"\"\n",
    "     for wx in  data:  \n",
    "        strMsg+=\"開始日期:\"+wx[\"startTime\"]\n",
    "        strMsg+=\"結束日期:\"+wx[\"endTime\"]\n",
    "        strMsg+=typeStr+wx[\"parameter\"][\"parameterName\"]\n",
    "     return strMsg\n",
    "\n",
    "def loadData(locatName):\n",
    "    if len(locatName) == 0:\n",
    "        return \"\"\n",
    "    url = f\"https://opendata.cwb.gov.tw/api/v1/rest/datastore/F-C0032-001?Authorization={API_KEY}&format=JSON&locationName={locatName}&elementName=Wx,MinT,MaxT\"\n",
    "    #print(url)\n",
    "    light = getJson(url)\n",
    "    print(\"records\" in light)\n",
    "    location = light[\"records\"][\"location\"]\n",
    "    if len(location) == 0:\n",
    "        return \"\"\n",
    "    data=\"\"\n",
    "    for locat in location: \n",
    "  \n",
    "        name = locat['locationName']+\":\"\n",
    "        wx = getParameter(\"氣候狀態:\",locat['weatherElement'][0][\"time\"])          \n",
    "        mit = getParameter(\"最低溫度:\",locat['weatherElement'][1][\"time\"])\n",
    "        mxt = getParameter(\"最高溫度:\",locat['weatherElement'][2][\"time\"])\n",
    "        msg = name + wx + mit+mxt\n",
    "        data+= msg\n",
    "    return data"
   ]
  },
  {
   "cell_type": "code",
   "execution_count": 17,
   "id": "acb383e0",
   "metadata": {},
   "outputs": [
    {
     "name": "stdout",
     "output_type": "stream",
     "text": [
      "True\n",
      "臺北市:開始日期:2023-07-21 12:00:00結束日期:2023-07-21 18:00:00氣候狀態:多雲午後短暫雷陣雨開始日期:2023-07-21 18:00:00結束日期:2023-07-22 06:00:00氣候狀態:多雲開始日期:2023-07-22 06:00:00結束日期:2023-07-22 18:00:00氣候狀態:多雲午後短暫雷陣雨開始日期:2023-07-21 12:00:00結束日期:2023-07-21 18:00:00最低溫度:31開始日期:2023-07-21 18:00:00結束日期:2023-07-22 06:00:00最低溫度:27開始日期:2023-07-22 06:00:00結束日期:2023-07-22 18:00:00最低溫度:27開始日期:2023-07-21 12:00:00結束日期:2023-07-21 18:00:00最高溫度:35開始日期:2023-07-21 18:00:00結束日期:2023-07-22 06:00:00最高溫度:31開始日期:2023-07-22 06:00:00結束日期:2023-07-22 18:00:00最高溫度:35\n"
     ]
    }
   ],
   "source": [
    "testData = loadData(\"臺北市\")\n",
    "print(testData)"
   ]
  },
  {
   "cell_type": "code",
   "execution_count": null,
   "id": "5bc3ad9f",
   "metadata": {},
   "outputs": [],
   "source": []
  }
 ],
 "metadata": {
  "kernelspec": {
   "display_name": "Python 3 (ipykernel)",
   "language": "python",
   "name": "python3"
  },
  "language_info": {
   "codemirror_mode": {
    "name": "ipython",
    "version": 3
   },
   "file_extension": ".py",
   "mimetype": "text/x-python",
   "name": "python",
   "nbconvert_exporter": "python",
   "pygments_lexer": "ipython3",
   "version": "3.8.16"
  }
 },
 "nbformat": 4,
 "nbformat_minor": 5
}
