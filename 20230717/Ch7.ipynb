{
 "cells": [
  {
   "cell_type": "code",
   "execution_count": 1,
   "id": "777f1fc3",
   "metadata": {},
   "outputs": [
    {
     "name": "stdout",
     "output_type": "stream",
     "text": [
      "請輸入1個月的支出金額5000\n",
      "請輸入2個月的支出金額4000\n",
      "請輸入3個月的支出金額3500\n",
      "請輸入4個月的支出金額7000\n",
      "max:7000\n",
      "min:3500\n",
      "19500\n",
      "[3500, 4000, 5000, 7000]\n",
      "7000\n",
      "3500\n"
     ]
    }
   ],
   "source": [
    "priceList=[]\n",
    "priceSum = 0\n",
    "for i in range(1,5):\n",
    "    p = int(input(f\"請輸入{i}個月的支出金額\"))\n",
    "    priceSum =priceSum + p\n",
    "    priceList.append(p)\n",
    "priceList.sort()   \n",
    "\n",
    "print(f\"max:{priceList[len(priceList)-1]}\") \n",
    "print(f\"min:{priceList[0]}\")\n",
    "print(priceSum)    \n",
    "print(priceList) \n",
    "print(max(priceList))    \n",
    "print(min(priceList)) "
   ]
  },
  {
   "cell_type": "markdown",
   "id": "77dff3e3",
   "metadata": {},
   "source": [
    "# 匿名函數\n",
    "+ 不需要定義函數名稱的，只需要用運算式或表達分析語法。\n",
    "+ Python 使用 lambda 語法定義匿名函數。\n",
    "+ 匿名函數是一個表達式/計算式，並不是一個執行流程區塊。\n",
    "+ 匿名函數可以出現在一般函數不允許的地方，例如像 list 內部或函數呼叫參數的位置。"
   ]
  },
  {
   "cell_type": "code",
   "execution_count": 3,
   "id": "4ee48dee",
   "metadata": {},
   "outputs": [
    {
     "name": "stdout",
     "output_type": "stream",
     "text": [
      "52\n",
      "52\n"
     ]
    }
   ],
   "source": [
    "def f(x,y,z):\n",
    "    return x + y + z\n",
    "print(f(2,20,30))\n",
    "f2 = lambda x,y,z:x + y + z\n",
    "print(f2(2,20,30))"
   ]
  },
  {
   "cell_type": "code",
   "execution_count": 7,
   "id": "45b19512",
   "metadata": {},
   "outputs": [
    {
     "name": "stdout",
     "output_type": "stream",
     "text": [
      "v1v2Test3\n",
      "v1Test2Test3\n"
     ]
    }
   ],
   "source": [
    "mz = (lambda a = \"Test1\",b=\"Test2\",c=\"Test3\": a + b + c)\n",
    "print(mz(\"v1\",\"v2\"))\n",
    "print(mz(\"v1\"))"
   ]
  },
  {
   "cell_type": "code",
   "execution_count": 8,
   "id": "ec4952b6",
   "metadata": {},
   "outputs": [
    {
     "name": "stdout",
     "output_type": "stream",
     "text": [
      "9\n",
      "27\n",
      "81\n"
     ]
    }
   ],
   "source": [
    "try1 = [lambda x:x**2,lambda x:x**3,lambda x:x**4]\n",
    "for f in try1:\n",
    "    print(f(3))"
   ]
  },
  {
   "cell_type": "code",
   "execution_count": 12,
   "id": "1d8fe5a5",
   "metadata": {},
   "outputs": [
    {
     "name": "stdout",
     "output_type": "stream",
     "text": [
      "9\n",
      "27\n",
      "81\n"
     ]
    }
   ],
   "source": [
    "def f1(x):\n",
    "    return x ** 2\n",
    "def f2(x):\n",
    "    return x ** 3\n",
    "def f3(x):\n",
    "    return x ** 4\n",
    "try2 = [f1,f2,f3]\n",
    "for ff in try2:\n",
    "    print(ff(3))"
   ]
  },
  {
   "cell_type": "code",
   "execution_count": 14,
   "id": "7860a50a",
   "metadata": {},
   "outputs": [
    {
     "name": "stdout",
     "output_type": "stream",
     "text": [
      "不及格\n"
     ]
    }
   ],
   "source": [
    "## 滿60及格 否則不及格\n",
    "score = 50\n",
    "#及格\n",
    "msg = \"\"\n",
    "if score >= 60:\n",
    "    msg = \"及格\" \n",
    "else:\n",
    "    msg = \"不及格\"\n",
    "print(msg)    "
   ]
  },
  {
   "cell_type": "code",
   "execution_count": 16,
   "id": "48f1938f",
   "metadata": {},
   "outputs": [
    {
     "name": "stdout",
     "output_type": "stream",
     "text": [
      "及格\n"
     ]
    }
   ],
   "source": [
    "score = 60\n",
    "msg = \"及格\" if score >= 60 else \"不及格\"\n",
    "print(msg)"
   ]
  },
  {
   "cell_type": "markdown",
   "id": "faf295f5",
   "metadata": {},
   "source": [
    "## 匿名函數可用於條件分析表達上"
   ]
  },
  {
   "cell_type": "code",
   "execution_count": 19,
   "id": "4048e534",
   "metadata": {},
   "outputs": [
    {
     "name": "stdout",
     "output_type": "stream",
     "text": [
      "2\n",
      "1\n"
     ]
    }
   ],
   "source": [
    "minFunc = lambda x,y:y if y < x else x\n",
    "print(minFunc(2,3))\n",
    "print(minFunc(5,1))"
   ]
  },
  {
   "cell_type": "markdown",
   "id": "bdc7c2bb",
   "metadata": {},
   "source": [
    "## Map"
   ]
  },
  {
   "cell_type": "code",
   "execution_count": 22,
   "id": "d73c3bcf",
   "metadata": {},
   "outputs": [
    {
     "name": "stdout",
     "output_type": "stream",
     "text": [
      "[2, 4, 6, 8]\n"
     ]
    }
   ],
   "source": [
    "a = map(lambda x :x * 2,[1,2,3,4])\n",
    "print(list(a))"
   ]
  },
  {
   "cell_type": "markdown",
   "id": "0825fde0",
   "metadata": {},
   "source": [
    "## Filter"
   ]
  },
  {
   "cell_type": "code",
   "execution_count": 23,
   "id": "54cd604d",
   "metadata": {},
   "outputs": [
    {
     "name": "stdout",
     "output_type": "stream",
     "text": [
      "[2, 4, 6]\n"
     ]
    }
   ],
   "source": [
    "a = [1,2,3,4,5,6]\n",
    "newList = filter(lambda x:x % 2 == 0,a)\n",
    "print(list(newList))"
   ]
  },
  {
   "cell_type": "markdown",
   "id": "c768a4f6",
   "metadata": {},
   "source": [
    "## 模組"
   ]
  },
  {
   "cell_type": "code",
   "execution_count": 25,
   "id": "e2650d4a",
   "metadata": {},
   "outputs": [
    {
     "name": "stdout",
     "output_type": "stream",
     "text": [
      "func1\n"
     ]
    }
   ],
   "source": [
    "import modu\n",
    "modu.fun1()"
   ]
  },
  {
   "cell_type": "code",
   "execution_count": 26,
   "id": "88f92e25",
   "metadata": {},
   "outputs": [
    {
     "name": "stdout",
     "output_type": "stream",
     "text": [
      "func1\n"
     ]
    }
   ],
   "source": [
    "import modu as mu\n",
    "mu.fun1()"
   ]
  },
  {
   "cell_type": "code",
   "execution_count": 27,
   "id": "fe0ddf2a",
   "metadata": {},
   "outputs": [
    {
     "name": "stdout",
     "output_type": "stream",
     "text": [
      "func1\n"
     ]
    }
   ],
   "source": [
    "from modu import fun1\n",
    "fun1()"
   ]
  },
  {
   "cell_type": "markdown",
   "id": "cc48ed38",
   "metadata": {},
   "source": [
    "## 亂數"
   ]
  },
  {
   "cell_type": "code",
   "execution_count": 33,
   "id": "ff2b664d",
   "metadata": {},
   "outputs": [
    {
     "name": "stdout",
     "output_type": "stream",
     "text": [
      "75\n"
     ]
    }
   ],
   "source": [
    "import random\n",
    "a = random.randint(0,100) # 0 ~ 100 包含100 隨機產生數值\n",
    "print(a)"
   ]
  },
  {
   "cell_type": "code",
   "execution_count": null,
   "id": "8b6c5d68",
   "metadata": {},
   "outputs": [],
   "source": []
  },
  {
   "cell_type": "code",
   "execution_count": null,
   "id": "68629a48",
   "metadata": {},
   "outputs": [],
   "source": []
  }
 ],
 "metadata": {
  "kernelspec": {
   "display_name": "Python 3 (ipykernel)",
   "language": "python",
   "name": "python3"
  },
  "language_info": {
   "codemirror_mode": {
    "name": "ipython",
    "version": 3
   },
   "file_extension": ".py",
   "mimetype": "text/x-python",
   "name": "python",
   "nbconvert_exporter": "python",
   "pygments_lexer": "ipython3",
   "version": "3.8.16"
  }
 },
 "nbformat": 4,
 "nbformat_minor": 5
}
