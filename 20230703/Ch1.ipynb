{
 "cells": [
  {
   "cell_type": "code",
   "execution_count": 1,
   "id": "d08b7fd6",
   "metadata": {},
   "outputs": [
    {
     "name": "stdout",
     "output_type": "stream",
     "text": [
      "10\n"
     ]
    }
   ],
   "source": [
    "print(10)"
   ]
  },
  {
   "cell_type": "markdown",
   "id": "954f3cbc",
   "metadata": {},
   "source": [
    "# python第一堂課\n",
    "## 輸出使用print()\n",
    "### print函式 可傳參數"
   ]
  },
  {
   "cell_type": "code",
   "execution_count": 3,
   "id": "5ea51e91",
   "metadata": {},
   "outputs": [
    {
     "name": "stdout",
     "output_type": "stream",
     "text": [
      "你好!!\n"
     ]
    }
   ],
   "source": [
    "print(\"你好!!\")"
   ]
  },
  {
   "cell_type": "code",
   "execution_count": 9,
   "id": "0e721b0a",
   "metadata": {},
   "outputs": [
    {
     "name": "stdout",
     "output_type": "stream",
     "text": [
      "20\n",
      "Ken\n"
     ]
    }
   ],
   "source": [
    "x = 20\n",
    "name = \"Ken\"\n",
    "print(x)\n",
    "print(name)"
   ]
  },
  {
   "cell_type": "code",
   "execution_count": 14,
   "id": "1b0073b2",
   "metadata": {},
   "outputs": [
    {
     "name": "stdout",
     "output_type": "stream",
     "text": [
      "85.2\n",
      "Lucy\n"
     ]
    }
   ],
   "source": [
    "\"\"\"\n",
    "今天天氣很好來寫程式\n",
    "作者:Howard\n",
    "\"\"\"\n",
    "\n",
    "score,name = 85.2,\"Lucy\"\n",
    "print(score) #輸出Score\n",
    "print(name)"
   ]
  },
  {
   "cell_type": "code",
   "execution_count": null,
   "id": "63e3525c",
   "metadata": {},
   "outputs": [],
   "source": []
  },
  {
   "cell_type": "code",
   "execution_count": null,
   "id": "ef2a552a",
   "metadata": {},
   "outputs": [],
   "source": []
  }
 ],
 "metadata": {
  "kernelspec": {
   "display_name": "Python 3 (ipykernel)",
   "language": "python",
   "name": "python3"
  },
  "language_info": {
   "codemirror_mode": {
    "name": "ipython",
    "version": 3
   },
   "file_extension": ".py",
   "mimetype": "text/x-python",
   "name": "python",
   "nbconvert_exporter": "python",
   "pygments_lexer": "ipython3",
   "version": "3.8.16"
  }
 },
 "nbformat": 4,
 "nbformat_minor": 5
}
